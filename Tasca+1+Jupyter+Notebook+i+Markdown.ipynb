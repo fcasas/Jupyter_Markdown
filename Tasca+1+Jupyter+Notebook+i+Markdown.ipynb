{
 "cells": [
  {
   "cell_type": "markdown",
   "metadata": {},
   "source": [
    "# **Sprint 2** - Tasca 1: Jupyter Notebook i Markdown"
   ]
  },
  {
   "cell_type": "markdown",
   "metadata": {},
   "source": [
    "## Exercici 2"
   ]
  },
  {
   "cell_type": "markdown",
   "metadata": {},
   "source": [
    "No pot faltar mai en les proves inicials de qualsevol nova eina un __\"Hello Wordl!\"__ 👍🏻"
   ]
  },
  {
   "cell_type": "code",
   "execution_count": 3,
   "metadata": {},
   "outputs": [
    {
     "name": "stdout",
     "output_type": "stream",
     "text": [
      "Hello Jupyter!\n"
     ]
    }
   ],
   "source": [
    "print('Hello Jupyter!')"
   ]
  },
  {
   "cell_type": "markdown",
   "metadata": {},
   "source": [
    "Provarem de crear una llista amb valors random. Per fer-ho utilitzarem el métode *sample()* del módul *random*:"
   ]
  },
  {
   "cell_type": "code",
   "execution_count": 5,
   "metadata": {},
   "outputs": [
    {
     "name": "stdout",
     "output_type": "stream",
     "text": [
      "[41, 66, 26, 20, 34, 23, 19, 61, 72, 49, 84, 42, 81, 88, 18, 83, 33, 52, 25, 5, 97, 2, 54, 11, 32]\n"
     ]
    }
   ],
   "source": [
    "import random\n",
    "\n",
    "randomlist = random.sample(range(1, 100), 25)\n",
    "\n",
    "print(randomlist)"
   ]
  },
  {
   "cell_type": "markdown",
   "metadata": {},
   "source": [
    "## Exercici 3"
   ]
  },
  {
   "cell_type": "markdown",
   "metadata": {},
   "source": [
    "### Títols\n",
    "Els hem provat en els encapçalaments d'aquest notebook i de cada exercici"
   ]
  },
  {
   "cell_type": "markdown",
   "metadata": {},
   "source": [
    "### Llistes\n",
    "\n",
    "Unordered:\n",
    "* item 1\n",
    "* item 2\n",
    "    * sub item 1\n",
    "    \n",
    "Ordered:\n",
    "1. item 1\n",
    "2. item 2\n",
    "    \n",
    "    \n",
    "Task:    \n",
    "- [x] uncompleted item\n",
    "- [ ] uncompleted item\n"
   ]
  },
  {
   "cell_type": "markdown",
   "metadata": {},
   "source": [
    "### Estils de lletra\n",
    "Els hem *provat* en **blocs** anteriors d'aquest ~~notebook~~ i en aquest ***mateix***"
   ]
  },
  {
   "cell_type": "markdown",
   "metadata": {},
   "source": [
    "### Imatges i links\n",
    "\n",
    "![esportics](https://www.esportics.com/wp-content/uploads/2015/07/logo_final-02.png)\n",
    "\n",
    "\n",
    "\n",
    "[enllaç](https://www.esportics.com \"eSportics\")\n"
   ]
  },
  {
   "cell_type": "markdown",
   "metadata": {},
   "source": [
    "### Code snippets\n",
    "Python code snippet:\n",
    "\n",
    "```python\n",
    "s = \"Syntax highlight\"\n",
    "print(x)\n",
    "```"
   ]
  },
  {
   "cell_type": "markdown",
   "metadata": {
    "collapsed": true
   },
   "source": [
    "## Exercici 4\n",
    "\n",
    "Deixem els arxius exportats també al GitHub: https://github.com/fcasas/Jupyter_Markdown.git\n",
    "\n"
   ]
  }
 ],
 "metadata": {
  "kernelspec": {
   "display_name": "Python 3",
   "language": "python",
   "name": "python3"
  },
  "language_info": {
   "codemirror_mode": {
    "name": "ipython",
    "version": 3
   },
   "file_extension": ".py",
   "mimetype": "text/x-python",
   "name": "python",
   "nbconvert_exporter": "python",
   "pygments_lexer": "ipython3",
   "version": "3.6.1"
  }
 },
 "nbformat": 4,
 "nbformat_minor": 2
}
